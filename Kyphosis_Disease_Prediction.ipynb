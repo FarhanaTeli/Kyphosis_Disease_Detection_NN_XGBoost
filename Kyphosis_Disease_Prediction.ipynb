{
 "cells": [
  {
   "cell_type": "markdown",
   "id": "249bf553-eba4-40bd-bc00-7e2ba16eed59",
   "metadata": {},
   "source": [
    "## Kyphosis Disease prediction using Simple Neural Network (NN) model and XGBoost model with GridSearchCV"
   ]
  },
  {
   "cell_type": "markdown",
   "id": "3df59dc9-946e-4cb5-8394-c5711cd9669d",
   "metadata": {},
   "source": [
    "### Installing & Importing libraries"
   ]
  },
  {
   "cell_type": "code",
   "execution_count": 2,
   "id": "107c9e63-860a-4323-96ba-b9f0ffa2f3e5",
   "metadata": {},
   "outputs": [
    {
     "name": "stdout",
     "output_type": "stream",
     "text": [
      "Collecting torch\n",
      "  Downloading torch-2.1.0-cp38-cp38-win_amd64.whl (192.3 MB)\n",
      "Requirement already satisfied: typing-extensions in c:\\users\\real\\desktop\\venv_prj\\lib\\site-packages (from torch) (4.8.0)\n",
      "Collecting networkx\n",
      "  Downloading networkx-3.1-py3-none-any.whl (2.1 MB)\n",
      "Collecting sympy\n",
      "  Downloading sympy-1.12-py3-none-any.whl (5.7 MB)\n",
      "Requirement already satisfied: jinja2 in c:\\users\\real\\desktop\\venv_prj\\lib\\site-packages (from torch) (3.1.2)\n",
      "Collecting filelock\n",
      "  Downloading filelock-3.12.4-py3-none-any.whl (11 kB)\n",
      "Collecting fsspec\n",
      "  Downloading fsspec-2023.9.2-py3-none-any.whl (173 kB)\n",
      "Requirement already satisfied: MarkupSafe>=2.0 in c:\\users\\real\\desktop\\venv_prj\\lib\\site-packages (from jinja2->torch) (2.1.3)\n",
      "Collecting mpmath>=0.19\n",
      "  Downloading mpmath-1.3.0-py3-none-any.whl (536 kB)\n",
      "Installing collected packages: mpmath, sympy, networkx, fsspec, filelock, torch\n",
      "Successfully installed filelock-3.12.4 fsspec-2023.9.2 mpmath-1.3.0 networkx-3.1 sympy-1.12 torch-2.1.0\n",
      "Note: you may need to restart the kernel to use updated packages.\n"
     ]
    },
    {
     "name": "stderr",
     "output_type": "stream",
     "text": [
      "WARNING: You are using pip version 21.1.1; however, version 23.2.1 is available.\n",
      "You should consider upgrading via the 'c:\\users\\real\\desktop\\venv_prj\\scripts\\python.exe -m pip install --upgrade pip' command.\n"
     ]
    }
   ],
   "source": [
    "pip install torch"
   ]
  },
  {
   "cell_type": "code",
   "execution_count": 40,
   "id": "a0a78ffe-0638-4028-8576-fcaf3a43f3a3",
   "metadata": {},
   "outputs": [
    {
     "name": "stdout",
     "output_type": "stream",
     "text": [
      "Collecting imblearn\n",
      "  Downloading imblearn-0.0-py2.py3-none-any.whl (1.9 kB)\n",
      "Collecting imbalanced-learn\n",
      "  Downloading imbalanced_learn-0.11.0-py3-none-any.whl (235 kB)\n",
      "Requirement already satisfied: scipy>=1.5.0 in c:\\users\\real\\desktop\\venv_prj\\lib\\site-packages (from imbalanced-learn->imblearn) (1.10.1)\n",
      "Requirement already satisfied: numpy>=1.17.3 in c:\\users\\real\\desktop\\venv_prj\\lib\\site-packages (from imbalanced-learn->imblearn) (1.24.4)\n",
      "Requirement already satisfied: joblib>=1.1.1 in c:\\users\\real\\desktop\\venv_prj\\lib\\site-packages (from imbalanced-learn->imblearn) (1.3.2)\n",
      "Requirement already satisfied: scikit-learn>=1.0.2 in c:\\users\\real\\desktop\\venv_prj\\lib\\site-packages (from imbalanced-learn->imblearn) (1.3.1)\n",
      "Requirement already satisfied: threadpoolctl>=2.0.0 in c:\\users\\real\\desktop\\venv_prj\\lib\\site-packages (from imbalanced-learn->imblearn) (3.2.0)\n",
      "Installing collected packages: imbalanced-learn, imblearn\n",
      "Successfully installed imbalanced-learn-0.11.0 imblearn-0.0\n",
      "Note: you may need to restart the kernel to use updated packages.\n"
     ]
    },
    {
     "name": "stderr",
     "output_type": "stream",
     "text": [
      "WARNING: You are using pip version 21.1.1; however, version 23.2.1 is available.\n",
      "You should consider upgrading via the 'c:\\users\\real\\desktop\\venv_prj\\scripts\\python.exe -m pip install --upgrade pip' command.\n"
     ]
    }
   ],
   "source": [
    "pip install imblearn"
   ]
  },
  {
   "cell_type": "code",
   "execution_count": 57,
   "id": "12a2ff74-b517-429f-b68f-d8176fb93c60",
   "metadata": {},
   "outputs": [
    {
     "name": "stdout",
     "output_type": "stream",
     "text": [
      "Collecting xgboostNote: you may need to restart the kernel to use updated packages.\n"
     ]
    },
    {
     "name": "stderr",
     "output_type": "stream",
     "text": [
      "WARNING: You are using pip version 21.1.1; however, version 23.2.1 is available.\n",
      "You should consider upgrading via the 'c:\\users\\real\\desktop\\venv_prj\\scripts\\python.exe -m pip install --upgrade pip' command.\n"
     ]
    },
    {
     "name": "stdout",
     "output_type": "stream",
     "text": [
      "\n",
      "  Downloading xgboost-2.0.0-py3-none-win_amd64.whl (99.7 MB)\n",
      "Requirement already satisfied: numpy in c:\\users\\real\\desktop\\venv_prj\\lib\\site-packages (from xgboost) (1.24.4)\n",
      "Requirement already satisfied: scipy in c:\\users\\real\\desktop\\venv_prj\\lib\\site-packages (from xgboost) (1.10.1)\n",
      "Installing collected packages: xgboost\n",
      "Successfully installed xgboost-2.0.0\n"
     ]
    }
   ],
   "source": [
    "pip install xgboost"
   ]
  },
  {
   "cell_type": "code",
   "execution_count": 1,
   "id": "6fb80d08-5ed4-432f-9f03-365af95fa70a",
   "metadata": {},
   "outputs": [],
   "source": [
    "import pandas as pd\n",
    "import numpy as np\n",
    "import sys\n",
    "from timeit import default_timer as timer\n",
    "import seaborn as sns\n",
    "import matplotlib.pyplot as plt\n",
    "import torch\n",
    "import torch.nn as nn\n",
    "import torch.optim as optim\n",
    "from sklearn.model_selection import train_test_split, GridSearchCV\n",
    "from sklearn.preprocessing import StandardScaler, LabelEncoder\n",
    "from sklearn.metrics import accuracy_score, precision_score, recall_score, f1_score, confusion_matrix, classification_report"
   ]
  },
  {
   "cell_type": "markdown",
   "id": "80c07e51-fbaa-47ce-bbc9-b413abea4ea6",
   "metadata": {},
   "source": [
    "### Load Kyphosis dataset"
   ]
  },
  {
   "cell_type": "code",
   "execution_count": 2,
   "id": "037d58e7-3b98-4b9e-953a-85d2916c46ec",
   "metadata": {},
   "outputs": [
    {
     "data": {
      "text/html": [
       "<div>\n",
       "<style scoped>\n",
       "    .dataframe tbody tr th:only-of-type {\n",
       "        vertical-align: middle;\n",
       "    }\n",
       "\n",
       "    .dataframe tbody tr th {\n",
       "        vertical-align: top;\n",
       "    }\n",
       "\n",
       "    .dataframe thead th {\n",
       "        text-align: right;\n",
       "    }\n",
       "</style>\n",
       "<table border=\"1\" class=\"dataframe\">\n",
       "  <thead>\n",
       "    <tr style=\"text-align: right;\">\n",
       "      <th></th>\n",
       "      <th>rownames</th>\n",
       "      <th>Kyphosis</th>\n",
       "      <th>Age</th>\n",
       "      <th>Number</th>\n",
       "      <th>Start</th>\n",
       "    </tr>\n",
       "  </thead>\n",
       "  <tbody>\n",
       "    <tr>\n",
       "      <th>0</th>\n",
       "      <td>1</td>\n",
       "      <td>absent</td>\n",
       "      <td>71</td>\n",
       "      <td>3</td>\n",
       "      <td>5</td>\n",
       "    </tr>\n",
       "    <tr>\n",
       "      <th>1</th>\n",
       "      <td>2</td>\n",
       "      <td>absent</td>\n",
       "      <td>158</td>\n",
       "      <td>3</td>\n",
       "      <td>14</td>\n",
       "    </tr>\n",
       "    <tr>\n",
       "      <th>2</th>\n",
       "      <td>3</td>\n",
       "      <td>present</td>\n",
       "      <td>128</td>\n",
       "      <td>4</td>\n",
       "      <td>5</td>\n",
       "    </tr>\n",
       "    <tr>\n",
       "      <th>3</th>\n",
       "      <td>4</td>\n",
       "      <td>absent</td>\n",
       "      <td>2</td>\n",
       "      <td>5</td>\n",
       "      <td>1</td>\n",
       "    </tr>\n",
       "    <tr>\n",
       "      <th>4</th>\n",
       "      <td>5</td>\n",
       "      <td>absent</td>\n",
       "      <td>1</td>\n",
       "      <td>4</td>\n",
       "      <td>15</td>\n",
       "    </tr>\n",
       "    <tr>\n",
       "      <th>5</th>\n",
       "      <td>6</td>\n",
       "      <td>absent</td>\n",
       "      <td>1</td>\n",
       "      <td>2</td>\n",
       "      <td>16</td>\n",
       "    </tr>\n",
       "    <tr>\n",
       "      <th>6</th>\n",
       "      <td>7</td>\n",
       "      <td>absent</td>\n",
       "      <td>61</td>\n",
       "      <td>2</td>\n",
       "      <td>17</td>\n",
       "    </tr>\n",
       "    <tr>\n",
       "      <th>7</th>\n",
       "      <td>8</td>\n",
       "      <td>absent</td>\n",
       "      <td>37</td>\n",
       "      <td>3</td>\n",
       "      <td>16</td>\n",
       "    </tr>\n",
       "    <tr>\n",
       "      <th>8</th>\n",
       "      <td>9</td>\n",
       "      <td>absent</td>\n",
       "      <td>113</td>\n",
       "      <td>2</td>\n",
       "      <td>16</td>\n",
       "    </tr>\n",
       "    <tr>\n",
       "      <th>9</th>\n",
       "      <td>10</td>\n",
       "      <td>present</td>\n",
       "      <td>59</td>\n",
       "      <td>6</td>\n",
       "      <td>12</td>\n",
       "    </tr>\n",
       "    <tr>\n",
       "      <th>10</th>\n",
       "      <td>11</td>\n",
       "      <td>present</td>\n",
       "      <td>82</td>\n",
       "      <td>5</td>\n",
       "      <td>14</td>\n",
       "    </tr>\n",
       "    <tr>\n",
       "      <th>11</th>\n",
       "      <td>12</td>\n",
       "      <td>absent</td>\n",
       "      <td>148</td>\n",
       "      <td>3</td>\n",
       "      <td>16</td>\n",
       "    </tr>\n",
       "    <tr>\n",
       "      <th>12</th>\n",
       "      <td>13</td>\n",
       "      <td>absent</td>\n",
       "      <td>18</td>\n",
       "      <td>5</td>\n",
       "      <td>2</td>\n",
       "    </tr>\n",
       "    <tr>\n",
       "      <th>13</th>\n",
       "      <td>14</td>\n",
       "      <td>absent</td>\n",
       "      <td>1</td>\n",
       "      <td>4</td>\n",
       "      <td>12</td>\n",
       "    </tr>\n",
       "    <tr>\n",
       "      <th>14</th>\n",
       "      <td>15</td>\n",
       "      <td>absent</td>\n",
       "      <td>168</td>\n",
       "      <td>3</td>\n",
       "      <td>18</td>\n",
       "    </tr>\n",
       "  </tbody>\n",
       "</table>\n",
       "</div>"
      ],
      "text/plain": [
       "    rownames Kyphosis  Age  Number  Start\n",
       "0          1   absent   71       3      5\n",
       "1          2   absent  158       3     14\n",
       "2          3  present  128       4      5\n",
       "3          4   absent    2       5      1\n",
       "4          5   absent    1       4     15\n",
       "5          6   absent    1       2     16\n",
       "6          7   absent   61       2     17\n",
       "7          8   absent   37       3     16\n",
       "8          9   absent  113       2     16\n",
       "9         10  present   59       6     12\n",
       "10        11  present   82       5     14\n",
       "11        12   absent  148       3     16\n",
       "12        13   absent   18       5      2\n",
       "13        14   absent    1       4     12\n",
       "14        15   absent  168       3     18"
      ]
     },
     "execution_count": 2,
     "metadata": {},
     "output_type": "execute_result"
    }
   ],
   "source": [
    "data = pd.read_csv('kyphosis.csv')\n",
    "data.head(15)"
   ]
  },
  {
   "cell_type": "markdown",
   "id": "5f892eea-be9c-4b09-a06a-2f9e539c3d54",
   "metadata": {},
   "source": [
    "### Data preprocessing\n"
   ]
  },
  {
   "cell_type": "markdown",
   "id": "7cb0a3d5-e0e5-4b41-8b6c-cf5c74b186df",
   "metadata": {},
   "source": [
    "#### Drop unused column"
   ]
  },
  {
   "cell_type": "code",
   "execution_count": 3,
   "id": "ae0047f4-c9db-46f5-b933-b39a3b3bb1fe",
   "metadata": {},
   "outputs": [],
   "source": [
    "data.drop('rownames', axis=1, inplace=True)"
   ]
  },
  {
   "cell_type": "code",
   "execution_count": 4,
   "id": "40c3561c-34be-4649-96a7-029e747235c8",
   "metadata": {},
   "outputs": [
    {
     "data": {
      "text/html": [
       "<div>\n",
       "<style scoped>\n",
       "    .dataframe tbody tr th:only-of-type {\n",
       "        vertical-align: middle;\n",
       "    }\n",
       "\n",
       "    .dataframe tbody tr th {\n",
       "        vertical-align: top;\n",
       "    }\n",
       "\n",
       "    .dataframe thead th {\n",
       "        text-align: right;\n",
       "    }\n",
       "</style>\n",
       "<table border=\"1\" class=\"dataframe\">\n",
       "  <thead>\n",
       "    <tr style=\"text-align: right;\">\n",
       "      <th></th>\n",
       "      <th>Kyphosis</th>\n",
       "      <th>Age</th>\n",
       "      <th>Number</th>\n",
       "      <th>Start</th>\n",
       "    </tr>\n",
       "  </thead>\n",
       "  <tbody>\n",
       "    <tr>\n",
       "      <th>0</th>\n",
       "      <td>absent</td>\n",
       "      <td>71</td>\n",
       "      <td>3</td>\n",
       "      <td>5</td>\n",
       "    </tr>\n",
       "    <tr>\n",
       "      <th>1</th>\n",
       "      <td>absent</td>\n",
       "      <td>158</td>\n",
       "      <td>3</td>\n",
       "      <td>14</td>\n",
       "    </tr>\n",
       "    <tr>\n",
       "      <th>2</th>\n",
       "      <td>present</td>\n",
       "      <td>128</td>\n",
       "      <td>4</td>\n",
       "      <td>5</td>\n",
       "    </tr>\n",
       "    <tr>\n",
       "      <th>3</th>\n",
       "      <td>absent</td>\n",
       "      <td>2</td>\n",
       "      <td>5</td>\n",
       "      <td>1</td>\n",
       "    </tr>\n",
       "    <tr>\n",
       "      <th>4</th>\n",
       "      <td>absent</td>\n",
       "      <td>1</td>\n",
       "      <td>4</td>\n",
       "      <td>15</td>\n",
       "    </tr>\n",
       "  </tbody>\n",
       "</table>\n",
       "</div>"
      ],
      "text/plain": [
       "  Kyphosis  Age  Number  Start\n",
       "0   absent   71       3      5\n",
       "1   absent  158       3     14\n",
       "2  present  128       4      5\n",
       "3   absent    2       5      1\n",
       "4   absent    1       4     15"
      ]
     },
     "execution_count": 4,
     "metadata": {},
     "output_type": "execute_result"
    }
   ],
   "source": [
    "data.head(5)"
   ]
  },
  {
   "cell_type": "markdown",
   "id": "0c96d439-d9e3-4934-965d-0170b054bf8d",
   "metadata": {},
   "source": [
    "##### Description of Kyphosis dataset"
   ]
  },
  {
   "cell_type": "code",
   "execution_count": 5,
   "id": "fe252b93-4b0e-4b0e-b6b7-1fae5a9944bf",
   "metadata": {},
   "outputs": [
    {
     "data": {
      "text/html": [
       "<div>\n",
       "<style scoped>\n",
       "    .dataframe tbody tr th:only-of-type {\n",
       "        vertical-align: middle;\n",
       "    }\n",
       "\n",
       "    .dataframe tbody tr th {\n",
       "        vertical-align: top;\n",
       "    }\n",
       "\n",
       "    .dataframe thead th {\n",
       "        text-align: right;\n",
       "    }\n",
       "</style>\n",
       "<table border=\"1\" class=\"dataframe\">\n",
       "  <thead>\n",
       "    <tr style=\"text-align: right;\">\n",
       "      <th></th>\n",
       "      <th>Age</th>\n",
       "      <th>Number</th>\n",
       "      <th>Start</th>\n",
       "    </tr>\n",
       "  </thead>\n",
       "  <tbody>\n",
       "    <tr>\n",
       "      <th>count</th>\n",
       "      <td>81.000000</td>\n",
       "      <td>81.000000</td>\n",
       "      <td>81.000000</td>\n",
       "    </tr>\n",
       "    <tr>\n",
       "      <th>mean</th>\n",
       "      <td>83.654321</td>\n",
       "      <td>4.049383</td>\n",
       "      <td>11.493827</td>\n",
       "    </tr>\n",
       "    <tr>\n",
       "      <th>std</th>\n",
       "      <td>58.104251</td>\n",
       "      <td>1.619423</td>\n",
       "      <td>4.883962</td>\n",
       "    </tr>\n",
       "    <tr>\n",
       "      <th>min</th>\n",
       "      <td>1.000000</td>\n",
       "      <td>2.000000</td>\n",
       "      <td>1.000000</td>\n",
       "    </tr>\n",
       "    <tr>\n",
       "      <th>25%</th>\n",
       "      <td>26.000000</td>\n",
       "      <td>3.000000</td>\n",
       "      <td>9.000000</td>\n",
       "    </tr>\n",
       "    <tr>\n",
       "      <th>50%</th>\n",
       "      <td>87.000000</td>\n",
       "      <td>4.000000</td>\n",
       "      <td>13.000000</td>\n",
       "    </tr>\n",
       "    <tr>\n",
       "      <th>75%</th>\n",
       "      <td>130.000000</td>\n",
       "      <td>5.000000</td>\n",
       "      <td>16.000000</td>\n",
       "    </tr>\n",
       "    <tr>\n",
       "      <th>max</th>\n",
       "      <td>206.000000</td>\n",
       "      <td>10.000000</td>\n",
       "      <td>18.000000</td>\n",
       "    </tr>\n",
       "  </tbody>\n",
       "</table>\n",
       "</div>"
      ],
      "text/plain": [
       "              Age     Number      Start\n",
       "count   81.000000  81.000000  81.000000\n",
       "mean    83.654321   4.049383  11.493827\n",
       "std     58.104251   1.619423   4.883962\n",
       "min      1.000000   2.000000   1.000000\n",
       "25%     26.000000   3.000000   9.000000\n",
       "50%     87.000000   4.000000  13.000000\n",
       "75%    130.000000   5.000000  16.000000\n",
       "max    206.000000  10.000000  18.000000"
      ]
     },
     "execution_count": 5,
     "metadata": {},
     "output_type": "execute_result"
    }
   ],
   "source": [
    "data.describe()"
   ]
  },
  {
   "cell_type": "code",
   "execution_count": 6,
   "id": "a1df7745-377c-4186-85c1-070acfeb3f58",
   "metadata": {},
   "outputs": [
    {
     "name": "stderr",
     "output_type": "stream",
     "text": [
      "C:\\Users\\REAL\\AppData\\Local\\Temp\\ipykernel_5220\\2955418061.py:2: FutureWarning: \n",
      "\n",
      "Passing `palette` without assigning `hue` is deprecated and will be removed in v0.14.0. Assign the `x` variable to `hue` and set `legend=False` for the same effect.\n",
      "\n",
      "  sns.barplot(x=visualize.index, y=visualize.values, palette='Set1')\n"
     ]
    },
    {
     "data": {
      "text/plain": [
       "<Axes: xlabel='Kyphosis'>"
      ]
     },
     "execution_count": 6,
     "metadata": {},
     "output_type": "execute_result"
    },
    {
     "data": {
      "image/png": "[encoded data removed]",
      "text/plain": [
       "<Figure size 640x480 with 1 Axes>"
      ]
     },
     "metadata": {},
     "output_type": "display_data"
    }
   ],
   "source": [
    "visualize = data['Kyphosis'].value_counts()\n",
    "sns.barplot(x=visualize.index, y=visualize.values, palette='Set1')"
   ]
  },
  {
   "cell_type": "code",
   "execution_count": 7,
   "id": "1ae3dd5f-bc70-4746-aae1-37173f9ddeab",
   "metadata": {},
   "outputs": [
    {
     "data": {
      "text/plain": [
       "<seaborn.axisgrid.PairGrid at 0x23977b07b50>"
      ]
     },
     "execution_count": 7,
     "metadata": {},
     "output_type": "execute_result"
    },
    {
     "data": {
      "image/png": "[encoded data removed]",
      "text/plain": [
       "<Figure size 852.75x750 with 12 Axes>"
      ]
     },
     "metadata": {},
     "output_type": "display_data"
    }
   ],
   "source": [
    "sns.pairplot(data, hue='Kyphosis', palette='Set1')"
   ]
  },
  {
   "cell_type": "markdown",
   "id": "a54d5553-650d-446f-8694-a101f8db3352",
   "metadata": {},
   "source": [
    "#### If you see the above Kyphosis visualization \"barplot\", there is imblanced data between absent and present class. The \"absent\" class is high as compared to \"present\" class. To resolve this proble we have to perform over-sampling. It include increasing the number of samples in the minority class to match the majority class. There are two popular over-sampling method include \"SMOTE\" and \"ADASYN\". We are going to use SMOTE technique."
   ]
  },
  {
   "cell_type": "markdown",
   "id": "68fd2318-6b1c-493f-8794-81ffb46e23fd",
   "metadata": {},
   "source": [
    "##### Separate features (X) and target (y)\r\n"
   ]
  },
  {
   "cell_type": "code",
   "execution_count": 8,
   "id": "6b4ba323-cc60-4a75-ac34-2eb19826d597",
   "metadata": {},
   "outputs": [],
   "source": [
    "X = data.drop('Kyphosis', axis=1)\n",
    "Y = data['Kyphosis']"
   ]
  },
  {
   "cell_type": "code",
   "execution_count": 9,
   "id": "6e17f717-269c-4629-bccc-6e79dc0cb375",
   "metadata": {},
   "outputs": [
    {
     "name": "stdout",
     "output_type": "stream",
     "text": [
      "Size of x :-  2088\n",
      "Size of y :-  5264\n"
     ]
    }
   ],
   "source": [
    "print('Size of x :- ', sys.getsizeof(X))\n",
    "print('Size of y :- ', sys.getsizeof(Y))"
   ]
  },
  {
   "cell_type": "markdown",
   "id": "b348e0ee-adc7-4dff-a151-bd09e8290c0c",
   "metadata": {},
   "source": [
    "##### Apply over-sampling using SMOTE\r\n"
   ]
  },
  {
   "cell_type": "code",
   "execution_count": 10,
   "id": "ae2b2580-eda4-4b68-bb42-fe549317ad20",
   "metadata": {},
   "outputs": [],
   "source": [
    "from imblearn.over_sampling import SMOTE\n",
    "smote = SMOTE(sampling_strategy='auto')\n",
    "x_resampled, y_resampled = smote.fit_resample(X, Y)"
   ]
  },
  {
   "cell_type": "markdown",
   "id": "2c42cc07-94d6-4c4c-8ac6-92a9fdac510b",
   "metadata": {},
   "source": [
    "##### Now, x_resampled and y_resampled contain the balanced dataset. \r\n"
   ]
  },
  {
   "cell_type": "code",
   "execution_count": 11,
   "id": "6390576d-c6ad-4521-940f-2f50a54653f2",
   "metadata": {},
   "outputs": [],
   "source": [
    "balanced_Kyphosis = pd.concat([x_resampled, y_resampled], axis=1)\n",
    "balanced_Kyphosis.to_csv('balanced_kyphosis_data.csv', index=False)"
   ]
  },
  {
   "cell_type": "code",
   "execution_count": 12,
   "id": "52f30c4c-d6fd-49b6-bb9a-f2d444ffe715",
   "metadata": {},
   "outputs": [
    {
     "data": {
      "text/html": [
       "<div>\n",
       "<style scoped>\n",
       "    .dataframe tbody tr th:only-of-type {\n",
       "        vertical-align: middle;\n",
       "    }\n",
       "\n",
       "    .dataframe tbody tr th {\n",
       "        vertical-align: top;\n",
       "    }\n",
       "\n",
       "    .dataframe thead th {\n",
       "        text-align: right;\n",
       "    }\n",
       "</style>\n",
       "<table border=\"1\" class=\"dataframe\">\n",
       "  <thead>\n",
       "    <tr style=\"text-align: right;\">\n",
       "      <th></th>\n",
       "      <th>Age</th>\n",
       "      <th>Number</th>\n",
       "      <th>Start</th>\n",
       "      <th>Kyphosis</th>\n",
       "    </tr>\n",
       "  </thead>\n",
       "  <tbody>\n",
       "    <tr>\n",
       "      <th>0</th>\n",
       "      <td>71</td>\n",
       "      <td>3</td>\n",
       "      <td>5</td>\n",
       "      <td>absent</td>\n",
       "    </tr>\n",
       "    <tr>\n",
       "      <th>1</th>\n",
       "      <td>158</td>\n",
       "      <td>3</td>\n",
       "      <td>14</td>\n",
       "      <td>absent</td>\n",
       "    </tr>\n",
       "    <tr>\n",
       "      <th>2</th>\n",
       "      <td>128</td>\n",
       "      <td>4</td>\n",
       "      <td>5</td>\n",
       "      <td>present</td>\n",
       "    </tr>\n",
       "    <tr>\n",
       "      <th>3</th>\n",
       "      <td>2</td>\n",
       "      <td>5</td>\n",
       "      <td>1</td>\n",
       "      <td>absent</td>\n",
       "    </tr>\n",
       "    <tr>\n",
       "      <th>4</th>\n",
       "      <td>1</td>\n",
       "      <td>4</td>\n",
       "      <td>15</td>\n",
       "      <td>absent</td>\n",
       "    </tr>\n",
       "    <tr>\n",
       "      <th>5</th>\n",
       "      <td>1</td>\n",
       "      <td>2</td>\n",
       "      <td>16</td>\n",
       "      <td>absent</td>\n",
       "    </tr>\n",
       "    <tr>\n",
       "      <th>6</th>\n",
       "      <td>61</td>\n",
       "      <td>2</td>\n",
       "      <td>17</td>\n",
       "      <td>absent</td>\n",
       "    </tr>\n",
       "    <tr>\n",
       "      <th>7</th>\n",
       "      <td>37</td>\n",
       "      <td>3</td>\n",
       "      <td>16</td>\n",
       "      <td>absent</td>\n",
       "    </tr>\n",
       "    <tr>\n",
       "      <th>8</th>\n",
       "      <td>113</td>\n",
       "      <td>2</td>\n",
       "      <td>16</td>\n",
       "      <td>absent</td>\n",
       "    </tr>\n",
       "    <tr>\n",
       "      <th>9</th>\n",
       "      <td>59</td>\n",
       "      <td>6</td>\n",
       "      <td>12</td>\n",
       "      <td>present</td>\n",
       "    </tr>\n",
       "  </tbody>\n",
       "</table>\n",
       "</div>"
      ],
      "text/plain": [
       "   Age  Number  Start Kyphosis\n",
       "0   71       3      5   absent\n",
       "1  158       3     14   absent\n",
       "2  128       4      5  present\n",
       "3    2       5      1   absent\n",
       "4    1       4     15   absent\n",
       "5    1       2     16   absent\n",
       "6   61       2     17   absent\n",
       "7   37       3     16   absent\n",
       "8  113       2     16   absent\n",
       "9   59       6     12  present"
      ]
     },
     "execution_count": 12,
     "metadata": {},
     "output_type": "execute_result"
    }
   ],
   "source": [
    "df = pd.read_csv('balanced_kyphosis_data.csv')\n",
    "df.head(10)"
   ]
  },
  {
   "cell_type": "markdown",
   "id": "0924195a-7712-498e-bca5-25f01c3759aa",
   "metadata": {},
   "source": [
    "##### Description of Kyphosis dataset after resampling using SMOTE"
   ]
  },
  {
   "cell_type": "code",
   "execution_count": 13,
   "id": "b4fbd827-d210-40ee-bc7c-d07d3ef1f7f8",
   "metadata": {},
   "outputs": [
    {
     "data": {
      "text/html": [
       "<div>\n",
       "<style scoped>\n",
       "    .dataframe tbody tr th:only-of-type {\n",
       "        vertical-align: middle;\n",
       "    }\n",
       "\n",
       "    .dataframe tbody tr th {\n",
       "        vertical-align: top;\n",
       "    }\n",
       "\n",
       "    .dataframe thead th {\n",
       "        text-align: right;\n",
       "    }\n",
       "</style>\n",
       "<table border=\"1\" class=\"dataframe\">\n",
       "  <thead>\n",
       "    <tr style=\"text-align: right;\">\n",
       "      <th></th>\n",
       "      <th>Age</th>\n",
       "      <th>Number</th>\n",
       "      <th>Start</th>\n",
       "    </tr>\n",
       "  </thead>\n",
       "  <tbody>\n",
       "    <tr>\n",
       "      <th>count</th>\n",
       "      <td>128.000000</td>\n",
       "      <td>128.000000</td>\n",
       "      <td>128.000000</td>\n",
       "    </tr>\n",
       "    <tr>\n",
       "      <th>mean</th>\n",
       "      <td>89.289062</td>\n",
       "      <td>4.328125</td>\n",
       "      <td>9.523438</td>\n",
       "    </tr>\n",
       "    <tr>\n",
       "      <th>std</th>\n",
       "      <td>52.256357</td>\n",
       "      <td>1.516883</td>\n",
       "      <td>5.092785</td>\n",
       "    </tr>\n",
       "    <tr>\n",
       "      <th>min</th>\n",
       "      <td>1.000000</td>\n",
       "      <td>2.000000</td>\n",
       "      <td>1.000000</td>\n",
       "    </tr>\n",
       "    <tr>\n",
       "      <th>25%</th>\n",
       "      <td>48.750000</td>\n",
       "      <td>3.000000</td>\n",
       "      <td>5.000000</td>\n",
       "    </tr>\n",
       "    <tr>\n",
       "      <th>50%</th>\n",
       "      <td>100.500000</td>\n",
       "      <td>4.000000</td>\n",
       "      <td>10.000000</td>\n",
       "    </tr>\n",
       "    <tr>\n",
       "      <th>75%</th>\n",
       "      <td>129.250000</td>\n",
       "      <td>5.000000</td>\n",
       "      <td>14.000000</td>\n",
       "    </tr>\n",
       "    <tr>\n",
       "      <th>max</th>\n",
       "      <td>206.000000</td>\n",
       "      <td>10.000000</td>\n",
       "      <td>18.000000</td>\n",
       "    </tr>\n",
       "  </tbody>\n",
       "</table>\n",
       "</div>"
      ],
      "text/plain": [
       "              Age      Number       Start\n",
       "count  128.000000  128.000000  128.000000\n",
       "mean    89.289062    4.328125    9.523438\n",
       "std     52.256357    1.516883    5.092785\n",
       "min      1.000000    2.000000    1.000000\n",
       "25%     48.750000    3.000000    5.000000\n",
       "50%    100.500000    4.000000   10.000000\n",
       "75%    129.250000    5.000000   14.000000\n",
       "max    206.000000   10.000000   18.000000"
      ]
     },
     "execution_count": 13,
     "metadata": {},
     "output_type": "execute_result"
    }
   ],
   "source": [
    "df.describe()"
   ]
  },
  {
   "cell_type": "code",
   "execution_count": 14,
   "id": "e426c2d8-17ce-40ff-822a-02389bb8e23e",
   "metadata": {},
   "outputs": [
    {
     "name": "stderr",
     "output_type": "stream",
     "text": [
      "C:\\Users\\REAL\\AppData\\Local\\Temp\\ipykernel_5220\\2195975019.py:2: FutureWarning: \n",
      "\n",
      "Passing `palette` without assigning `hue` is deprecated and will be removed in v0.14.0. Assign the `x` variable to `hue` and set `legend=False` for the same effect.\n",
      "\n",
      "  sns.barplot(x=balance_visualize.index, y=balance_visualize.values, palette='Set1')\n"
     ]
    },
    {
     "data": {
      "text/plain": [
       "<Axes: xlabel='Kyphosis'>"
      ]
     },
     "execution_count": 14,
     "metadata": {},
     "output_type": "execute_result"
    },
    {
     "data": {
      "image/png": "[encoded data removed]",
      "text/plain": [
       "<Figure size 640x480 with 1 Axes>"
      ]
     },
     "metadata": {},
     "output_type": "display_data"
    }
   ],
   "source": [
    "balance_visualize = df['Kyphosis'].value_counts()\n",
    "sns.barplot(x=balance_visualize.index, y=balance_visualize.values, palette='Set1')"
   ]
  },
  {
   "cell_type": "markdown",
   "id": "cdb1b4e2-73d4-4f10-88a1-7bf1d4c22bd6",
   "metadata": {},
   "source": [
    "##### Split feature(x) and target(y) after resampling using \"SMOTE\" technique"
   ]
  },
  {
   "cell_type": "code",
   "execution_count": 15,
   "id": "76d88fe3-02ff-4d79-b558-2435a4351508",
   "metadata": {},
   "outputs": [
    {
     "name": "stdout",
     "output_type": "stream",
     "text": [
      "Size of x :-  3216\n",
      "Size of y :-  8272\n"
     ]
    }
   ],
   "source": [
    "x = df.drop('Kyphosis', axis=1)\n",
    "y = df['Kyphosis']\n",
    "print('Size of x :- ', sys.getsizeof(x))\n",
    "print('Size of y :- ', sys.getsizeof(y))"
   ]
  },
  {
   "cell_type": "markdown",
   "id": "37aa5cfa-6483-4436-80d7-d6c15a2f4c9b",
   "metadata": {},
   "source": [
    "##### Initialize the label encoder, because target class contain data in \"str\" format such as 'present' and 'absent'\n",
    "##### Encode the target variable\n"
   ]
  },
  {
   "cell_type": "code",
   "execution_count": 16,
   "id": "ab386387-aad3-45d3-beb0-fee35c961e1f",
   "metadata": {},
   "outputs": [],
   "source": [
    "label_encoder = LabelEncoder()\n",
    "y_encoded = label_encoder.fit_transform(y)"
   ]
  },
  {
   "cell_type": "code",
   "execution_count": 17,
   "id": "01de85ed-1668-4dfb-ad1d-ff17b950873c",
   "metadata": {},
   "outputs": [
    {
     "data": {
      "text/plain": [
       "array([0, 0, 1, 0, 0, 0, 0, 0, 0, 1, 1, 0, 0, 0, 0, 0, 0, 0, 0, 0, 0, 1,\n",
       "       1, 0, 1, 0, 0, 0, 0, 0, 0, 0, 0, 0, 0, 0, 0, 1, 0, 1, 1, 0, 0, 0,\n",
       "       0, 1, 0, 0, 1, 0, 0, 0, 1, 0, 0, 0, 0, 1, 0, 0, 1, 1, 0, 0, 0, 0,\n",
       "       0, 0, 0, 0, 0, 0, 0, 0, 0, 0, 1, 0, 0, 1, 0, 1, 1, 1, 1, 1, 1, 1,\n",
       "       1, 1, 1, 1, 1, 1, 1, 1, 1, 1, 1, 1, 1, 1, 1, 1, 1, 1, 1, 1, 1, 1,\n",
       "       1, 1, 1, 1, 1, 1, 1, 1, 1, 1, 1, 1, 1, 1, 1, 1, 1, 1])"
      ]
     },
     "execution_count": 17,
     "metadata": {},
     "output_type": "execute_result"
    }
   ],
   "source": [
    "y_encoded"
   ]
  },
  {
   "cell_type": "markdown",
   "id": "2f765a2c-66bd-4ddf-beb2-8db07feaecef",
   "metadata": {},
   "source": [
    "### Split the data into training and testing sets\n"
   ]
  },
  {
   "cell_type": "markdown",
   "id": "22c99576-8730-4e9d-a3cf-3bc6cbea5fef",
   "metadata": {},
   "source": [
    "##### Note:- Using \"stratify=Y\" can help ensure that each class is represented proportionally in both the training and testing sets. This is important to prevent the model from being biased toward the majority class."
   ]
  },
  {
   "cell_type": "code",
   "execution_count": 18,
   "id": "d0a11c8a-df0d-4c31-8fa4-24b68e93178e",
   "metadata": {},
   "outputs": [],
   "source": [
    "xtrain, xtest, ytrain, ytest = train_test_split(x, y_encoded, test_size=0.2, stratify=y_encoded, random_state=42)"
   ]
  },
  {
   "cell_type": "markdown",
   "id": "436cc6a0-14e4-440c-97b3-767338688404",
   "metadata": {},
   "source": [
    "### Standardize the features\r\n"
   ]
  },
  {
   "cell_type": "code",
   "execution_count": 19,
   "id": "78634fc4-5728-403c-b620-d78091ad2e3d",
   "metadata": {},
   "outputs": [],
   "source": [
    "scale = StandardScaler()\n",
    "x_train = scale.fit_transform(xtrain)\n",
    "x_test = scale.fit_transform(xtest)"
   ]
  },
  {
   "cell_type": "markdown",
   "id": "287f5cfd-fe0a-436b-8355-774c26c01ef1",
   "metadata": {},
   "source": [
    "## Define and build a simple neural network(NN) model for Kyphosis disease detection\n"
   ]
  },
  {
   "cell_type": "code",
   "execution_count": 20,
   "id": "67fffa67-9fb2-408f-841a-a83b0dd8247e",
   "metadata": {},
   "outputs": [],
   "source": [
    "class NNKyphosisClassifier(nn.Module):\n",
    "    def __init__(self):\n",
    "        super(NNKyphosisClassifier, self).__init__()\n",
    "        self.layer1 = nn.Linear(3,64)\n",
    "        self.activation1 = nn.ReLU()\n",
    "        self.layer2 = nn.Linear(64,1)\n",
    "        self.sigmoid = nn.Sigmoid()\n",
    "    def forward(self, X):\n",
    "        X = self.layer1(X)\n",
    "        X = self.activation1(X)\n",
    "        X = self.layer2(X)\n",
    "        X = self.sigmoid(X)\n",
    "        return X"
   ]
  },
  {
   "cell_type": "markdown",
   "id": "e9919f7b-bb25-42e5-b699-3814fb7543a1",
   "metadata": {},
   "source": [
    "#### Create the Neural Network (NN) model."
   ]
  },
  {
   "cell_type": "code",
   "execution_count": 21,
   "id": "cee60131-6ea7-421a-9a42-ff5a009fc714",
   "metadata": {},
   "outputs": [],
   "source": [
    "neural_network_model = NNKyphosisClassifier()"
   ]
  },
  {
   "cell_type": "markdown",
   "id": "dc385d32-ef33-4f6f-8c1a-399328409ee8",
   "metadata": {},
   "source": [
    "#### Define the loss function and optimizer for model training.\n"
   ]
  },
  {
   "cell_type": "code",
   "execution_count": 22,
   "id": "dc592efe-14e0-4b0d-a7ac-d8a0f0a514be",
   "metadata": {},
   "outputs": [],
   "source": [
    "criterion = nn.BCEWithLogitsLoss()    # Binary Cross-Entropy Loss\n",
    "optimizer = optim.Adam(neural_network_model.parameters(), lr=0.001)"
   ]
  },
  {
   "cell_type": "markdown",
   "id": "1e800e70-b64e-4aba-9265-4f7fdee225b0",
   "metadata": {},
   "source": [
    "#### Convert data to PyTorch tensors.\n"
   ]
  },
  {
   "cell_type": "code",
   "execution_count": 23,
   "id": "9ddd1dd7-202b-495b-8d9f-ebf1c2acce72",
   "metadata": {},
   "outputs": [],
   "source": [
    "X_train = torch.FloatTensor(x_train)\n",
    "y_train = torch.FloatTensor(ytrain).view(-1,1)    # Reshape for binary classification"
   ]
  },
  {
   "cell_type": "markdown",
   "id": "c933dc27-0d0a-43da-ac3d-a41c6a0917ab",
   "metadata": {},
   "source": [
    "#### Training the NN model for Kyphosis disease detection"
   ]
  },
  {
   "cell_type": "code",
   "execution_count": 24,
   "id": "0b24e224-f765-4378-a7d0-2e91ec8163ca",
   "metadata": {},
   "outputs": [
    {
     "name": "stdout",
     "output_type": "stream",
     "text": [
      "Required time for training the neural network model:-  0.34682370000001583\n"
     ]
    }
   ],
   "source": [
    "start = timer()\n",
    "for epoch in range(100):\n",
    "    optimizer.zero_grad()\n",
    "    outputs = neural_network_model(X_train)\n",
    "    loss = criterion(outputs, y_train)\n",
    "    loss.backward()\n",
    "    optimizer.step()\n",
    "print('Required time for training the neural network model:- ', timer() - start) "
   ]
  },
  {
   "cell_type": "markdown",
   "id": "5b27d22e-4d95-49b2-8620-a9fef8e46ee8",
   "metadata": {},
   "source": [
    "#### Convert test data to PyTorch tensor.\n"
   ]
  },
  {
   "cell_type": "code",
   "execution_count": 25,
   "id": "62f2f045-e884-4f71-8068-40b4ddd25200",
   "metadata": {},
   "outputs": [],
   "source": [
    "X_test = torch.FloatTensor(x_test)"
   ]
  },
  {
   "cell_type": "markdown",
   "id": "01e99fd9-bf49-4f30-a56e-42dd7fca6a6c",
   "metadata": {},
   "source": [
    "#### Make predictions using the trained model\r\n"
   ]
  },
  {
   "cell_type": "code",
   "execution_count": 26,
   "id": "dc0ee5c9-2ccd-4d43-b063-5d22a6905f68",
   "metadata": {},
   "outputs": [],
   "source": [
    "with torch.no_grad():\n",
    "    neural_network_model.eval()\n",
    "    predictions = neural_network_model(X_test)"
   ]
  },
  {
   "cell_type": "markdown",
   "id": "1d0a6c50-ba86-4e9f-9568-d619e213335d",
   "metadata": {},
   "source": [
    "#### Convert the predictions to a numpy array\r\n"
   ]
  },
  {
   "cell_type": "code",
   "execution_count": 27,
   "id": "f4a9ebb0-b6ad-43d7-aaee-a23064efb8fe",
   "metadata": {},
   "outputs": [],
   "source": [
    "predicted_label = (predictions>0.5).numpy().flatten()   # it's a binary classification (0 or 1)"
   ]
  },
  {
   "cell_type": "code",
   "execution_count": 28,
   "id": "670b5796-6512-4e1f-9deb-aa5ea66c92a8",
   "metadata": {},
   "outputs": [],
   "source": [
    "actual_labels = ytest == 1   # Assuming 1 represents \"present,\" adjust as needed"
   ]
  },
  {
   "cell_type": "markdown",
   "id": "ac5941d2-5aca-44a6-8c95-9a2f7425326a",
   "metadata": {},
   "source": [
    "#### Calculate the model evaluation"
   ]
  },
  {
   "cell_type": "code",
   "execution_count": 29,
   "id": "cc651075-abfb-4b14-8abb-115c6a0581c1",
   "metadata": {},
   "outputs": [],
   "source": [
    "cm = confusion_matrix(actual_labels, predicted_label)\n",
    "accuracy = accuracy_score(actual_labels, predicted_label)\n",
    "precision= precision_score(actual_labels, predicted_label)\n",
    "recall = recall_score(actual_labels, predicted_label)\n",
    "f1 = f1_score(actual_labels, predicted_label)\n",
    "cr = classification_report(actual_labels, predicted_label)"
   ]
  },
  {
   "cell_type": "markdown",
   "id": "eb4803f5-7c8e-4b69-9e95-23327ce8d381",
   "metadata": {},
   "source": [
    "#### Display actual and predicted results\r\n"
   ]
  },
  {
   "cell_type": "code",
   "execution_count": 30,
   "id": "3b666ffd-d5af-42f9-9126-c0565e19d070",
   "metadata": {},
   "outputs": [
    {
     "name": "stdout",
     "output_type": "stream",
     "text": [
      "(***********True for \"1\" and False for \"0\"***********)\n",
      "Actual: True, Predicted: True\n",
      "Actual: True, Predicted: False\n",
      "Actual: False, Predicted: False\n",
      "Actual: False, Predicted: False\n",
      "Actual: False, Predicted: False\n",
      "Actual: False, Predicted: False\n",
      "Actual: True, Predicted: True\n",
      "Actual: True, Predicted: True\n",
      "Actual: True, Predicted: True\n",
      "Actual: False, Predicted: False\n",
      "Actual: False, Predicted: False\n",
      "Actual: True, Predicted: True\n",
      "Actual: True, Predicted: False\n",
      "Actual: True, Predicted: True\n",
      "Actual: False, Predicted: False\n",
      "Actual: True, Predicted: False\n",
      "Actual: False, Predicted: False\n",
      "Actual: False, Predicted: False\n",
      "Actual: True, Predicted: True\n",
      "Actual: False, Predicted: False\n",
      "Actual: False, Predicted: False\n",
      "Actual: False, Predicted: False\n",
      "Actual: True, Predicted: True\n",
      "Actual: True, Predicted: True\n",
      "Actual: False, Predicted: True\n",
      "Actual: True, Predicted: True\n",
      "Timer for prediction :-  0.0012691000000017993\n"
     ]
    }
   ],
   "source": [
    "start = timer()\n",
    "print('(***********True for \"1\" and False for \"0\"***********)')\n",
    "for actual, predicted in zip(actual_labels,predicted_label):\n",
    "    print(f'Actual: {actual}, Predicted: {predicted}')\n",
    "print(\"Timer for prediction :- \", timer() - start)"
   ]
  },
  {
   "cell_type": "markdown",
   "id": "8bc1e4b6-850a-4bc3-a93c-211d2741e049",
   "metadata": {},
   "source": [
    "#### Display overall evaluation metrics"
   ]
  },
  {
   "cell_type": "code",
   "execution_count": 32,
   "id": "225fbc8a-2c85-4439-aadb-6023e64e6394",
   "metadata": {},
   "outputs": [
    {
     "name": "stdout",
     "output_type": "stream",
     "text": [
      "Accuracy: 0.85\n",
      "Precision: 0.91\n",
      "Recall: 0.77\n",
      "F1-Score: 0.83\n",
      "Confusion Matrix: \n",
      " [[12  1]\n",
      " [ 3 10]]\n",
      "Classification report: \n",
      "               precision    recall  f1-score   support\n",
      "\n",
      "       False       0.80      0.92      0.86        13\n",
      "        True       0.91      0.77      0.83        13\n",
      "\n",
      "    accuracy                           0.85        26\n",
      "   macro avg       0.85      0.85      0.85        26\n",
      "weighted avg       0.85      0.85      0.85        26\n",
      "\n"
     ]
    }
   ],
   "source": [
    "print(f'Accuracy: {accuracy:.2f}')\n",
    "print(f'Precision: {precision:.2f}')\n",
    "print(f'Recall: {recall:.2f}')\n",
    "print(f'F1-Score: {f1:.2f}')\n",
    "print('Confusion Matrix: \\n', cm)\n",
    "print('Classification report: \\n', cr)"
   ]
  },
  {
   "cell_type": "code",
   "execution_count": null,
   "id": "12136bec-87f2-4b41-ad9d-a260bfe28904",
   "metadata": {},
   "outputs": [],
   "source": []
  },
  {
   "cell_type": "markdown",
   "id": "cbb72023-e872-43c5-8e95-906099ad2474",
   "metadata": {},
   "source": [
    "## Define and build Gradient Boosting (XGBoost) model for Kyphosis disease prediction"
   ]
  },
  {
   "cell_type": "code",
   "execution_count": 33,
   "id": "28fde5c1-747b-4ff9-8cf0-5bd1e2254157",
   "metadata": {},
   "outputs": [],
   "source": [
    "import xgboost as xgb\n",
    "# Create and train the XGBoost model\n",
    "XGB_model = xgb.XGBClassifier()"
   ]
  },
  {
   "cell_type": "markdown",
   "id": "b9e9d921-aa7e-4559-8538-8331a8111265",
   "metadata": {},
   "source": [
    "##### Optimizing the parameters of your XGBoost model for the Kyphosis dataset can be done using hyperparameter tuning techniques. You can use Grid Search or Randomized Search to find the best combination of hyperparameters. Here we are going to use \"Grid Search\""
   ]
  },
  {
   "cell_type": "code",
   "execution_count": 55,
   "id": "57a0c59f-c419-473b-933f-c88dcddd015d",
   "metadata": {},
   "outputs": [],
   "source": [
    "# Define a grid of hyperparameters to search (Hyperparameter tunning)\n",
    "param_grid = {\n",
    "    'n_estimators': [100, 200, 300],\n",
    "    'max_depth': [3, 4, 5],\n",
    "    'learning_rate': [0.01, 0.1, 0.2],\n",
    "    'min_child_weight': [1, 2, 3]\n",
    "    # Add more hyperparameters to search and their respective values\n",
    "}"
   ]
  },
  {
   "cell_type": "markdown",
   "id": "25b4b7c9-ac0f-46cd-883e-11f121f34c5b",
   "metadata": {},
   "source": [
    "#### Perform Grid Search with cross-validation\n"
   ]
  },
  {
   "cell_type": "code",
   "execution_count": 35,
   "id": "da47dc7c-73e9-4d3d-bd76-67637b903af3",
   "metadata": {},
   "outputs": [],
   "source": [
    "grid_search = GridSearchCV(estimator=XGB_model, param_grid=param_grid, scoring='accuracy', cv=5)"
   ]
  },
  {
   "cell_type": "code",
   "execution_count": 36,
   "id": "cef27fdf-f92f-4211-aeb3-077d8e16fe99",
   "metadata": {},
   "outputs": [
    {
     "name": "stdout",
     "output_type": "stream",
     "text": [
      "Timer for model training :-  28.024452399999973\n"
     ]
    }
   ],
   "source": [
    "# Fit the model to find the best hyperparameters\n",
    "start = timer()\n",
    "grid_search.fit(x_train, ytrain)\n",
    "print(\"Timer for model training :- \", timer() - start)"
   ]
  },
  {
   "cell_type": "code",
   "execution_count": 54,
   "id": "a80e37ef-594e-4077-8e6c-2f4086de231a",
   "metadata": {},
   "outputs": [
    {
     "data": {
      "text/html": [
       "<style>#sk-container-id-1 {color: black;}#sk-container-id-1 pre{padding: 0;}#sk-container-id-1 div.sk-toggleable {background-color: white;}#sk-container-id-1 label.sk-toggleable__label {cursor: pointer;display: block;width: 100%;margin-bottom: 0;padding: 0.3em;box-sizing: border-box;text-align: center;}#sk-container-id-1 label.sk-toggleable__label-arrow:before {content: \"▸\";float: left;margin-right: 0.25em;color: #696969;}#sk-container-id-1 label.sk-toggleable__label-arrow:hover:before {color: black;}#sk-container-id-1 div.sk-estimator:hover label.sk-toggleable__label-arrow:before {color: black;}#sk-container-id-1 div.sk-toggleable__content {max-height: 0;max-width: 0;overflow: hidden;text-align: left;background-color: #f0f8ff;}#sk-container-id-1 div.sk-toggleable__content pre {margin: 0.2em;color: black;border-radius: 0.25em;background-color: #f0f8ff;}#sk-container-id-1 input.sk-toggleable__control:checked~div.sk-toggleable__content {max-height: 200px;max-width: 100%;overflow: auto;}#sk-container-id-1 input.sk-toggleable__control:checked~label.sk-toggleable__label-arrow:before {content: \"▾\";}#sk-container-id-1 div.sk-estimator input.sk-toggleable__control:checked~label.sk-toggleable__label {background-color: #d4ebff;}#sk-container-id-1 div.sk-label input.sk-toggleable__control:checked~label.sk-toggleable__label {background-color: #d4ebff;}#sk-container-id-1 input.sk-hidden--visually {border: 0;clip: rect(1px 1px 1px 1px);clip: rect(1px, 1px, 1px, 1px);height: 1px;margin: -1px;overflow: hidden;padding: 0;position: absolute;width: 1px;}#sk-container-id-1 div.sk-estimator {font-family: monospace;background-color: #f0f8ff;border: 1px dotted black;border-radius: 0.25em;box-sizing: border-box;margin-bottom: 0.5em;}#sk-container-id-1 div.sk-estimator:hover {background-color: #d4ebff;}#sk-container-id-1 div.sk-parallel-item::after {content: \"\";width: 100%;border-bottom: 1px solid gray;flex-grow: 1;}#sk-container-id-1 div.sk-label:hover label.sk-toggleable__label {background-color: #d4ebff;}#sk-container-id-1 div.sk-serial::before {content: \"\";position: absolute;border-left: 1px solid gray;box-sizing: border-box;top: 0;bottom: 0;left: 50%;z-index: 0;}#sk-container-id-1 div.sk-serial {display: flex;flex-direction: column;align-items: center;background-color: white;padding-right: 0.2em;padding-left: 0.2em;position: relative;}#sk-container-id-1 div.sk-item {position: relative;z-index: 1;}#sk-container-id-1 div.sk-parallel {display: flex;align-items: stretch;justify-content: center;background-color: white;position: relative;}#sk-container-id-1 div.sk-item::before, #sk-container-id-1 div.sk-parallel-item::before {content: \"\";position: absolute;border-left: 1px solid gray;box-sizing: border-box;top: 0;bottom: 0;left: 50%;z-index: -1;}#sk-container-id-1 div.sk-parallel-item {display: flex;flex-direction: column;z-index: 1;position: relative;background-color: white;}#sk-container-id-1 div.sk-parallel-item:first-child::after {align-self: flex-end;width: 50%;}#sk-container-id-1 div.sk-parallel-item:last-child::after {align-self: flex-start;width: 50%;}#sk-container-id-1 div.sk-parallel-item:only-child::after {width: 0;}#sk-container-id-1 div.sk-dashed-wrapped {border: 1px dashed gray;margin: 0 0.4em 0.5em 0.4em;box-sizing: border-box;padding-bottom: 0.4em;background-color: white;}#sk-container-id-1 div.sk-label label {font-family: monospace;font-weight: bold;display: inline-block;line-height: 1.2em;}#sk-container-id-1 div.sk-label-container {text-align: center;}#sk-container-id-1 div.sk-container {/* jupyter's `normalize.less` sets `[hidden] { display: none; }` but bootstrap.min.css set `[hidden] { display: none !important; }` so we also need the `!important` here to be able to override the default hidden behavior on the sphinx rendered scikit-learn.org. See: https://github.com/scikit-learn/scikit-learn/issues/21755 */display: inline-block !important;position: relative;}#sk-container-id-1 div.sk-text-repr-fallback {display: none;}</style><div id=\"sk-container-id-1\" class=\"sk-top-container\"><div class=\"sk-text-repr-fallback\"><pre>GridSearchCV(cv=5,\n",
       "             estimator=XGBClassifier(base_score=None, booster=None,\n",
       "                                     callbacks=None, colsample_bylevel=None,\n",
       "                                     colsample_bynode=None,\n",
       "                                     colsample_bytree=None, device=None,\n",
       "                                     early_stopping_rounds=None,\n",
       "                                     enable_categorical=False, eval_metric=None,\n",
       "                                     feature_types=None, gamma=None,\n",
       "                                     grow_policy=None, importance_type=None,\n",
       "                                     interaction_constraints=None,\n",
       "                                     learning_rate=None,...\n",
       "                                     max_cat_to_onehot=None,\n",
       "                                     max_delta_step=None, max_depth=None,\n",
       "                                     max_leaves=None, min_child_weight=None,\n",
       "                                     missing=nan, monotone_constraints=None,\n",
       "                                     multi_strategy=None, n_estimators=None,\n",
       "                                     n_jobs=None, num_parallel_tree=None,\n",
       "                                     random_state=None, ...),\n",
       "             param_grid={&#x27;learning_rate&#x27;: [0.01, 0.1, 0.2],\n",
       "                         &#x27;max_depth&#x27;: [3, 4, 5], &#x27;min_child_weight&#x27;: [1, 2, 3],\n",
       "                         &#x27;n_estimators&#x27;: [100, 200, 300]},\n",
       "             scoring=&#x27;accuracy&#x27;)</pre><b>In a Jupyter environment, please rerun this cell to show the HTML representation or trust the notebook. <br />On GitHub, the HTML representation is unable to render, please try loading this page with nbviewer.org.</b></div><div class=\"sk-container\" hidden><div class=\"sk-item sk-dashed-wrapped\"><div class=\"sk-label-container\"><div class=\"sk-label sk-toggleable\"><input class=\"sk-toggleable__control sk-hidden--visually\" id=\"sk-estimator-id-1\" type=\"checkbox\" ><label for=\"sk-estimator-id-1\" class=\"sk-toggleable__label sk-toggleable__label-arrow\">GridSearchCV</label><div class=\"sk-toggleable__content\"><pre>GridSearchCV(cv=5,\n",
       "             estimator=XGBClassifier(base_score=None, booster=None,\n",
       "                                     callbacks=None, colsample_bylevel=None,\n",
       "                                     colsample_bynode=None,\n",
       "                                     colsample_bytree=None, device=None,\n",
       "                                     early_stopping_rounds=None,\n",
       "                                     enable_categorical=False, eval_metric=None,\n",
       "                                     feature_types=None, gamma=None,\n",
       "                                     grow_policy=None, importance_type=None,\n",
       "                                     interaction_constraints=None,\n",
       "                                     learning_rate=None,...\n",
       "                                     max_cat_to_onehot=None,\n",
       "                                     max_delta_step=None, max_depth=None,\n",
       "                                     max_leaves=None, min_child_weight=None,\n",
       "                                     missing=nan, monotone_constraints=None,\n",
       "                                     multi_strategy=None, n_estimators=None,\n",
       "                                     n_jobs=None, num_parallel_tree=None,\n",
       "                                     random_state=None, ...),\n",
       "             param_grid={&#x27;learning_rate&#x27;: [0.01, 0.1, 0.2],\n",
       "                         &#x27;max_depth&#x27;: [3, 4, 5], &#x27;min_child_weight&#x27;: [1, 2, 3],\n",
       "                         &#x27;n_estimators&#x27;: [100, 200, 300]},\n",
       "             scoring=&#x27;accuracy&#x27;)</pre></div></div></div><div class=\"sk-parallel\"><div class=\"sk-parallel-item\"><div class=\"sk-item\"><div class=\"sk-label-container\"><div class=\"sk-label sk-toggleable\"><input class=\"sk-toggleable__control sk-hidden--visually\" id=\"sk-estimator-id-2\" type=\"checkbox\" ><label for=\"sk-estimator-id-2\" class=\"sk-toggleable__label sk-toggleable__label-arrow\">estimator: XGBClassifier</label><div class=\"sk-toggleable__content\"><pre>XGBClassifier(base_score=None, booster=None, callbacks=None,\n",
       "              colsample_bylevel=None, colsample_bynode=None,\n",
       "              colsample_bytree=None, device=None, early_stopping_rounds=None,\n",
       "              enable_categorical=False, eval_metric=None, feature_types=None,\n",
       "              gamma=None, grow_policy=None, importance_type=None,\n",
       "              interaction_constraints=None, learning_rate=None, max_bin=None,\n",
       "              max_cat_threshold=None, max_cat_to_onehot=None,\n",
       "              max_delta_step=None, max_depth=None, max_leaves=None,\n",
       "              min_child_weight=None, missing=nan, monotone_constraints=None,\n",
       "              multi_strategy=None, n_estimators=None, n_jobs=None,\n",
       "              num_parallel_tree=None, random_state=None, ...)</pre></div></div></div><div class=\"sk-serial\"><div class=\"sk-item\"><div class=\"sk-estimator sk-toggleable\"><input class=\"sk-toggleable__control sk-hidden--visually\" id=\"sk-estimator-id-3\" type=\"checkbox\" ><label for=\"sk-estimator-id-3\" class=\"sk-toggleable__label sk-toggleable__label-arrow\">XGBClassifier</label><div class=\"sk-toggleable__content\"><pre>XGBClassifier(base_score=None, booster=None, callbacks=None,\n",
       "              colsample_bylevel=None, colsample_bynode=None,\n",
       "              colsample_bytree=None, device=None, early_stopping_rounds=None,\n",
       "              enable_categorical=False, eval_metric=None, feature_types=None,\n",
       "              gamma=None, grow_policy=None, importance_type=None,\n",
       "              interaction_constraints=None, learning_rate=None, max_bin=None,\n",
       "              max_cat_threshold=None, max_cat_to_onehot=None,\n",
       "              max_delta_step=None, max_depth=None, max_leaves=None,\n",
       "              min_child_weight=None, missing=nan, monotone_constraints=None,\n",
       "              multi_strategy=None, n_estimators=None, n_jobs=None,\n",
       "              num_parallel_tree=None, random_state=None, ...)</pre></div></div></div></div></div></div></div></div></div></div>"
      ],
      "text/plain": [
       "GridSearchCV(cv=5,\n",
       "             estimator=XGBClassifier(base_score=None, booster=None,\n",
       "                                     callbacks=None, colsample_bylevel=None,\n",
       "                                     colsample_bynode=None,\n",
       "                                     colsample_bytree=None, device=None,\n",
       "                                     early_stopping_rounds=None,\n",
       "                                     enable_categorical=False, eval_metric=None,\n",
       "                                     feature_types=None, gamma=None,\n",
       "                                     grow_policy=None, importance_type=None,\n",
       "                                     interaction_constraints=None,\n",
       "                                     learning_rate=None,...\n",
       "                                     max_cat_to_onehot=None,\n",
       "                                     max_delta_step=None, max_depth=None,\n",
       "                                     max_leaves=None, min_child_weight=None,\n",
       "                                     missing=nan, monotone_constraints=None,\n",
       "                                     multi_strategy=None, n_estimators=None,\n",
       "                                     n_jobs=None, num_parallel_tree=None,\n",
       "                                     random_state=None, ...),\n",
       "             param_grid={'learning_rate': [0.01, 0.1, 0.2],\n",
       "                         'max_depth': [3, 4, 5], 'min_child_weight': [1, 2, 3],\n",
       "                         'n_estimators': [100, 200, 300]},\n",
       "             scoring='accuracy')"
      ]
     },
     "execution_count": 54,
     "metadata": {},
     "output_type": "execute_result"
    }
   ],
   "source": [
    "grid_search"
   ]
  },
  {
   "cell_type": "code",
   "execution_count": 37,
   "id": "3fbf294d-a262-4bbc-b698-e91e82c7437a",
   "metadata": {},
   "outputs": [
    {
     "name": "stdout",
     "output_type": "stream",
     "text": [
      "Best XGBoostModel Parameters: {'learning_rate': 0.2, 'max_depth': 3, 'min_child_weight': 1, 'n_estimators': 100}\n"
     ]
    }
   ],
   "source": [
    "# Get the best hyperparameters and model\n",
    "best_params = grid_search.best_params_\n",
    "best_xgb_model = grid_search.best_estimator_\n",
    "print(f'Best XGBoostModel Parameters: {best_params}')"
   ]
  },
  {
   "cell_type": "markdown",
   "id": "d288196b-1eb8-441e-93cb-c33d28caca9c",
   "metadata": {},
   "source": [
    "#### Make prediction for XGBoost model"
   ]
  },
  {
   "cell_type": "code",
   "execution_count": 38,
   "id": "8aff65ce-a21d-450d-bdb2-1ac940cb539c",
   "metadata": {},
   "outputs": [],
   "source": [
    "xgb_prediction1 = best_xgb_model.predict(x_test)"
   ]
  },
  {
   "cell_type": "code",
   "execution_count": 39,
   "id": "a249a243-aa32-4c4e-8356-f49ea1c4fae3",
   "metadata": {},
   "outputs": [
    {
     "name": "stdout",
     "output_type": "stream",
     "text": [
      "Actual: 1, Predicted: 1\n",
      "Actual: 1, Predicted: 1\n",
      "Actual: 0, Predicted: 1\n",
      "Actual: 0, Predicted: 0\n",
      "Actual: 0, Predicted: 0\n",
      "Actual: 0, Predicted: 0\n",
      "Actual: 1, Predicted: 1\n",
      "Actual: 1, Predicted: 1\n",
      "Actual: 1, Predicted: 1\n",
      "Actual: 0, Predicted: 0\n",
      "Actual: 0, Predicted: 0\n",
      "Actual: 1, Predicted: 1\n",
      "Actual: 1, Predicted: 1\n",
      "Actual: 1, Predicted: 1\n",
      "Actual: 0, Predicted: 0\n",
      "Actual: 1, Predicted: 1\n",
      "Actual: 0, Predicted: 0\n",
      "Actual: 0, Predicted: 0\n",
      "Actual: 1, Predicted: 1\n",
      "Actual: 0, Predicted: 0\n",
      "Actual: 0, Predicted: 0\n",
      "Actual: 0, Predicted: 0\n",
      "Actual: 1, Predicted: 1\n",
      "Actual: 1, Predicted: 1\n",
      "Actual: 0, Predicted: 0\n",
      "Actual: 1, Predicted: 1\n",
      "Timer for prediction :-  0.0008927999999741587\n"
     ]
    }
   ],
   "source": [
    "start = timer()\n",
    "for actual, predicted in zip(ytest,xgb_prediction1):\n",
    "    print(f'Actual: {actual}, Predicted: {predicted}')\n",
    "print(\"Timer for prediction :- \", timer() - start)"
   ]
  },
  {
   "cell_type": "markdown",
   "id": "6a715ce3-4e9b-4eb5-8ae7-c55e9def444a",
   "metadata": {},
   "source": [
    "#### Calculate XGBoost model evaluation"
   ]
  },
  {
   "cell_type": "code",
   "execution_count": 40,
   "id": "0c51c377-a760-438f-bea1-d6489f8c385f",
   "metadata": {},
   "outputs": [],
   "source": [
    "xgb_cm = confusion_matrix(ytest, xgb_prediction1)\n",
    "xgb_accuracy = accuracy_score(ytest, xgb_prediction1)\n",
    "xgb_precision= precision_score(ytest, xgb_prediction1)\n",
    "xgb_recall = recall_score(ytest, xgb_prediction1)\n",
    "xgb_f1 = f1_score(ytest, xgb_prediction1)\n",
    "xgb_cr = classification_report(ytest, xgb_prediction1)"
   ]
  },
  {
   "cell_type": "markdown",
   "id": "db8e6ce0-a71d-449c-a940-33fc4b997671",
   "metadata": {},
   "source": [
    "#### Display overall evaluation metrics for XGBoost model (Kyphosis dataset)"
   ]
  },
  {
   "cell_type": "code",
   "execution_count": 41,
   "id": "b9062154-76d1-43d9-8fc3-f693a99d624f",
   "metadata": {},
   "outputs": [
    {
     "name": "stdout",
     "output_type": "stream",
     "text": [
      "Accuracy: 0.96\n",
      "Precision: 0.93\n",
      "Recall: 1.00\n",
      "F1-Score: 0.96\n",
      "Confusion Matrix: \n",
      " [[12  1]\n",
      " [ 0 13]]\n",
      "Classification report: \n",
      "               precision    recall  f1-score   support\n",
      "\n",
      "           0       1.00      0.92      0.96        13\n",
      "           1       0.93      1.00      0.96        13\n",
      "\n",
      "    accuracy                           0.96        26\n",
      "   macro avg       0.96      0.96      0.96        26\n",
      "weighted avg       0.96      0.96      0.96        26\n",
      "\n"
     ]
    }
   ],
   "source": [
    "print(f'Accuracy: {xgb_accuracy:.2f}')\n",
    "print(f'Precision: {xgb_precision:.2f}')\n",
    "print(f'Recall: {xgb_recall:.2f}')\n",
    "print(f'F1-Score: {xgb_f1:.2f}')\n",
    "print('Confusion Matrix: \\n', xgb_cm)\n",
    "print('Classification report: \\n', xgb_cr)"
   ]
  },
  {
   "cell_type": "markdown",
   "id": "afba31c6-a33e-4af4-97f1-ea18388c3ec9",
   "metadata": {},
   "source": [
    "#### XGBoost with GridSearchCV model visualization"
   ]
  },
  {
   "cell_type": "markdown",
   "id": "e0f8f665-7960-4302-9b91-d666afdaf2f6",
   "metadata": {},
   "source": [
    "##### Assuming 'results' is a dictionary containing hyperparameter results from GridSearchCV\n"
   ]
  },
  {
   "cell_type": "code",
   "execution_count": 45,
   "id": "51fa4157-12e0-441e-a3cb-b1f449653209",
   "metadata": {},
   "outputs": [],
   "source": [
    "results = grid_search.cv_results_"
   ]
  },
  {
   "cell_type": "markdown",
   "id": "9048ba91-1967-42a1-a2cf-286263fd2594",
   "metadata": {},
   "source": [
    "##### Extract the hyperparameters and corresponding accuracy scores\r\n"
   ]
  },
  {
   "cell_type": "code",
   "execution_count": 46,
   "id": "2131a89b-7a17-4691-a2d1-fbb72bdfbeec",
   "metadata": {},
   "outputs": [],
   "source": [
    "param_combinations = results['params']\n",
    "accuracy_scores = results['mean_test_score']"
   ]
  },
  {
   "cell_type": "markdown",
   "id": "be8e9565-da2d-4948-a33b-03fd2c3c214e",
   "metadata": {},
   "source": [
    "##### Plot the results "
   ]
  },
  {
   "cell_type": "code",
   "execution_count": 52,
   "id": "5ce2def2-e76e-498e-9465-5139382f5d6c",
   "metadata": {},
   "outputs": [
    {
     "data": {
      "image/png": "[encoded data removed]",
      "text/plain": [
       "<Figure size 1500x1000 with 1 Axes>"
      ]
     },
     "metadata": {},
     "output_type": "display_data"
    }
   ],
   "source": [
    "plt.figure(figsize=(15, 10))\n",
    "x_values = [str(params) for params in param_combinations]\n",
    "plt.xticks(rotation=90)\n",
    "plt.bar(x_values, accuracy_scores)\n",
    "plt.xlabel('Hyperparameter Combinations')\n",
    "plt.ylabel('Accuracy')\n",
    "plt.title('Accuracy vs. Hyperparameter Combinations')\n",
    "plt.show()\n"
   ]
  },
  {
   "cell_type": "markdown",
   "id": "f77a30cd-d55e-4d2c-a03d-e0f9193daf7e",
   "metadata": {},
   "source": [
    "#### Display which model perform best on Kyphosis dataset - NN model or XGBoost"
   ]
  },
  {
   "cell_type": "code",
   "execution_count": 53,
   "id": "f564b2b2-13fb-40be-9342-42dcfbf5eaf4",
   "metadata": {},
   "outputs": [
    {
     "data": {
      "image/png": "[encoded data removed]",
      "text/plain": [
       "<Figure size 800x600 with 1 Axes>"
      ]
     },
     "metadata": {},
     "output_type": "display_data"
    }
   ],
   "source": [
    "model_names = ['XGBoost', 'Neural Network']\n",
    "accuracy_scores = [xgb_accuracy, accuracy]\n",
    "\n",
    "# Create a bar chart to compare model accuracy\n",
    "plt.figure(figsize=(8, 6))\n",
    "plt.bar(model_names, accuracy_scores, color=['blue', 'green'])\n",
    "plt.xlabel('Models')\n",
    "plt.ylabel('Accuracy')\n",
    "plt.title('Model Accuracy Comparison')\n",
    "plt.ylim(0, 1)  # Set the y-axis limits to the range [0, 1] for accuracy\n",
    "plt.show()\n"
   ]
  },
  {
   "cell_type": "code",
   "execution_count": null,
   "id": "ef2eaae6-5ede-48c6-a07b-44afb92e7b87",
   "metadata": {},
   "outputs": [],
   "source": []
  }
 ],
 "metadata": {
  "kernelspec": {
   "display_name": "Python 3 (ipykernel)",
   "language": "python",
   "name": "python3"
  },
  "language_info": {
   "codemirror_mode": {
    "name": "ipython",
    "version": 3
   },
   "file_extension": ".py",
   "mimetype": "text/x-python",
   "name": "python",
   "nbconvert_exporter": "python",
   "pygments_lexer": "ipython3",
   "version": "3.8.10"
  }
 },
 "nbformat": 4,
 "nbformat_minor": 5
}
